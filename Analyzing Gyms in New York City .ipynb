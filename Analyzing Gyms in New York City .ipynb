{
    "nbformat_minor": 1, 
    "cells": [
        {
            "source": "# Analysis of Gyms In New York City", 
            "cell_type": "markdown", 
            "metadata": {
                "collapsed": true
            }
        }, 
        {
            "source": "## Table of Contents\n* [Abstract](#abstract)\n* [Introduction: Business Problem](#introduction)\n* [Data](#data)\n* [Methodology](#methodology)\n* [Analysis](#analysis)\n* [Results and Discussion](#results)\n* [Conclusion](#conclusion)", 
            "cell_type": "markdown", 
            "metadata": {}
        }, 
        {
            "source": "## Abstract <a name=\"abstract\"></a>", 
            "cell_type": "markdown", 
            "metadata": {}
        }, 
        {
            "source": "Anyone moving to New York City may find it difficult to acclimate to the big city life. For anyone who wants to see all of the experiences is a large urban city like New York has to offer it can be really easy to be lost. Especially is a frequent user of gyms. Gym density in urban locations can be daunting. The density of a city like New York City makes finding the best neighborhood for a gym goers is a daunting task. ", 
            "cell_type": "markdown", 
            "metadata": {}
        }, 
        {
            "source": "## Introduction/Business Problem <a name=\"introduction\"></a>", 
            "cell_type": "markdown", 
            "metadata": {}
        }, 
        {
            "source": "In this project we will find which New York neighborhood has the best and most number of gyms. This project will be targeted to stakeholders looking to move to New York and picking one neighborhood over the other based on gym quality and density. Companies focused in the lifestyle market may use this to gear their products and marketing. \n\nDue to the density of gyms of in an urban area like New York we will give some weight to areas that contain a **large** number of gyms but the overall rating of each gym. We will attribute a **Gym Quality Index** to ever neighborhood which will take in factors such as ratings of each gym as well as gym density within a given neighborhood. A larger value of the **Gym Quality Index** signifies a better neighborhood for a Gym goer.", 
            "cell_type": "markdown", 
            "metadata": {}
        }, 
        {
            "source": "## Data <a name=\"Data\"></a>", 
            "cell_type": "markdown", 
            "metadata": {}
        }, 
        {
            "source": "Based on our definition of our business problem. We must assess which neighborhood in New York has the best **Gym Quality Index**. This numerical index will be used to compare the neighborhoods. The underlying factors of this index will be composed of:\n\n* Number of Gyms Within 2 mile radius of the Neigbhorhood center\n\n    For Example: Say that in a neigborhood the gyms consist of (\"24HOURFITNESS\", \"GOLDSGYM\", \"EQUINOX\") then the value would be 3\n    \n* Rating of all of the gymes within this range \n    Consider the data above with the three gyms we might receive the rating of each gym in an array ( 7.4 , 8.4 , 6.5 ) \n* We then would compute the **GYM QUALITY INDEX** as: \n\n     **GYM QUALITY INDEX** = **(_SUM of RATINGS_)/(_NUMBER OF GYMS_)**", 
            "cell_type": "markdown", 
            "metadata": {}
        }, 
        {
            "source": "In order to attain this data we will use the following sources to source the data:\n\n* Foursquare API for gym locations in latitude/longitute coordinates and ratings\n* Geopy library to convert addresses to spatial coordinates\n* Use either JSON file of New York Data or Web Scrape Wikipedia Page on New York Zipcodes ", 
            "cell_type": "markdown", 
            "metadata": {}
        }, 
        {
            "source": "## B. Acquisition and Cleaning <a name=\"acquisition\"></a>", 
            "cell_type": "markdown", 
            "metadata": {}
        }, 
        {
            "source": "In order to identify gyms in New York City we had to utilize a data set that contained all of the Borough informtion of New York City. We need to map the information and get a feel for the 5 Boroughs as well as where the neighborhoods where within the city. The following data sources where utilized:\n* New York City has a free dataset which houses GeoJSON data which outlines the 5 boroughs as wellas 306 Neighborhoods https://geo.nyu.edu/catalog/nyu_2451_34572.\n* **Foursquare** in order to retrieve information on each of the gyms which included their ratings. We were limited to 950 calls which we exceeded a couple of times but we learned to work around these limitations.\n", 
            "cell_type": "markdown", 
            "metadata": {}
        }, 
        {
            "execution_count": null, 
            "cell_type": "code", 
            "metadata": {}, 
            "outputs": [], 
            "source": "with open('newyork_data.json') as json_data:\n    newyork_data = json.load(json_data)\n\nneighborhood_data = newyork_data['features']\n\ncol_names = ['Borough','Neighborhood','Latitude','Longitude']\n\nneighborhoods = pd.DataFrame(columns=col_names)\n    \nfor data in neighborhood_data:\n    borough = neighborhood_name = data['properties']['borough'] \n    neighborhood_name = data['properties']['name']\n        \n    neighborhood_latlon = data['geometry']['coordinates']\n    neighborhood_lat = neighborhood_latlon[1]\n    neighborhood_lon = neighborhood_latlon[0]\n    \n    neighborhoods = neighborhoods.append({'Borough': borough,\n                                          'Neighborhood': neighborhood_name,\n                                          'Latitude': neighborhood_lat,\n                                          'Longitude': neighborhood_lon}, ignore_index=True)\nneighborhoods.describe()"
        }, 
        {
            "execution_count": null, 
            "cell_type": "code", 
            "metadata": {}, 
            "outputs": [], 
            "source": ""
        }, 
        {
            "source": "We map New York City with the Neighborhood as Markers to get a visualization of the space we are working with. They are 5 boroughs. **Manhattan** and the **Bronx** are on the same land mass as well as **Queens** and **Brooklyn**, although they are seperated from each other. **Staten Island** is its own seperate entity. This will be significant factors when looking at the distribution of gyms amongst the boroughs.\n", 
            "cell_type": "markdown", 
            "metadata": {}
        }, 
        {
            "execution_count": null, 
            "cell_type": "code", 
            "metadata": {}, 
            "outputs": [], 
            "source": ""
        }, 
        {
            "source": "## C .Exploratory Data Analysis  <a name=\"eda\"></a>", 
            "cell_type": "markdown", 
            "metadata": {}
        }, 
        {
            "source": "We first analyze the data to identify how many points we have and what the characteristics of the data will be. We will be utilizing the \n", 
            "cell_type": "markdown", 
            "metadata": {}
        }, 
        {
            "source": "## Methodology <a name=\"methodology\"></a>", 
            "cell_type": "markdown", 
            "metadata": {}
        }, 
        {
            "source": "All of the data and this notebook will be stored in a github repository. My main goal is to utilize the pandas library to create a dataframe containing the labels: ", 
            "cell_type": "markdown", 
            "metadata": {}
        }, 
        {
            "source": "## Analysis <a name=\"analysis\"></a>", 
            "cell_type": "markdown", 
            "metadata": {}
        }, 
        {
            "execution_count": null, 
            "cell_type": "code", 
            "metadata": {}, 
            "outputs": [], 
            "source": ""
        }, 
        {
            "source": "## Results/Discussion <a name=\"results\"></a>", 
            "cell_type": "markdown", 
            "metadata": {}
        }, 
        {
            "execution_count": null, 
            "cell_type": "code", 
            "metadata": {}, 
            "outputs": [], 
            "source": ""
        }, 
        {
            "source": "## Conclusion <a name=\"conclusion\"></a>", 
            "cell_type": "markdown", 
            "metadata": {}
        }, 
        {
            "execution_count": null, 
            "cell_type": "code", 
            "metadata": {}, 
            "outputs": [], 
            "source": ""
        }
    ], 
    "metadata": {
        "kernelspec": {
            "display_name": "Python 3.6", 
            "name": "python3", 
            "language": "python"
        }, 
        "language_info": {
            "mimetype": "text/x-python", 
            "nbconvert_exporter": "python", 
            "version": "3.6.8", 
            "name": "python", 
            "file_extension": ".py", 
            "pygments_lexer": "ipython3", 
            "codemirror_mode": {
                "version": 3, 
                "name": "ipython"
            }
        }
    }, 
    "nbformat": 4
}