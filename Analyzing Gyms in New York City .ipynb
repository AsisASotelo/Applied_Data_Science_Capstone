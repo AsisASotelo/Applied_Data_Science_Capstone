{
 "cells": [
  {
   "cell_type": "markdown",
   "metadata": {
    "collapsed": true
   },
   "source": [
    "# Analysis of Gyms In New York City"
   ]
  },
  {
   "cell_type": "markdown",
   "metadata": {},
   "source": [
    "## Table of Contents\n",
    "* [Abstract](#abstract)\n",
    "* [Introduction: Business Problem](#introduction)\n",
    "* [Data](#data)\n",
    "* [Methodology](#methodology)\n",
    "* [Analysis](#analysis)\n",
    "* [Results and Discussion](#results)\n",
    "* [Conclusion](#conclusion)"
   ]
  },
  {
   "cell_type": "markdown",
   "metadata": {},
   "source": [
    "## Abstract <a name=\"abstract\"></a>"
   ]
  },
  {
   "cell_type": "markdown",
   "metadata": {},
   "source": [
    "Anyone moving to New York City may find it difficult to acclimate to the big city life. For anyone who wants to see all of the experiences is a large urban city like New York has to offer it can be really easy to be lost. Especially is a frequent user of gyms. Gym density in urban locations can be daunting. The density of a city like New York City makes finding the best neighborhood for a gym goers is a daunting task. "
   ]
  },
  {
   "cell_type": "markdown",
   "metadata": {},
   "source": [
    "## Introduction/Business Problem <a name =\"introduction\"></a>"
   ]
  },
  {
   "cell_type": "markdown",
   "metadata": {},
   "source": [
    "In this project we will find which New York neighborhood has the best and most number of gyms. This project will be targeted to stakeholders looking to move to New York and picking one neighborhood over the other based on gym quality and density. Companies focused in the lifestyle market may use this to gear their products and marketing. \n",
    "\n",
    "Due to the density of gyms of in an urban area like New York we will give some weight to areas that contain a **large** number of gyms but the overall rating of each gym. We will attribute a **Gym Quality Index** to ever neighborhood which will take in factors such as ratings of each gym as well as gym density within a given neighborhood. A larger value of the **Gym Quality Index** signifies a better neighborhood for a Gym goer."
   ]
  },
  {
   "cell_type": "markdown",
   "metadata": {},
   "source": [
    "## Data <a name=\"Data\"></a>"
   ]
  },
  {
   "cell_type": "markdown",
   "metadata": {},
   "source": [
    "Based on our definition of our business problem. We must assess which neighborhood in New York has the best **Gym Quality Index**. This numerical index will be used to compare the neighborhoods. The underlying factors of this index will be composed of:\n",
    "\n",
    "* Number of Gyms Within 2 mile radius of the Neigbhorhood center\n",
    "\n",
    "    For Example: Say that in a neigborhood the gyms consist of (\"24HOURFITNESS\", \"GOLDSGYM\", \"EQUINOX\") then the value would be 3\n",
    "    \n",
    "* Rating of all of the gymes within this range \n",
    "    Consider the data above with the three gyms we might receive the rating of each gym in an array ( 7.4 , 8.4 , 6.5 ) \n",
    "* We then would compute the **GYM QUALITY INDEX** as: \n",
    "\n",
    "     **GYM QUALITY INDEX** = **(_SUM of RATINGS_)/(_NUMBER OF GYMS_)**"
   ]
  },
  {
   "cell_type": "markdown",
   "metadata": {},
   "source": [
    "In order to attain this data we will use the following sources to source the data:\n",
    "\n",
    "* Foursquare API for gym locations in latitude/longitute coordinates and ratings\n",
    "* Geopy library to convert addresses to spatial coordinates\n",
    "* Use either JSON file of New York Data or Web Scrape Wikipedia Page on New York Zipcodes "
   ]
  },
  {
   "cell_type": "code",
   "execution_count": null,
   "metadata": {},
   "outputs": [],
   "source": []
  }
 ],
 "metadata": {
  "kernelspec": {
   "display_name": "Python 3",
   "language": "python",
   "name": "python3"
  },
  "language_info": {
   "codemirror_mode": {
    "name": "ipython",
    "version": 3
   },
   "file_extension": ".py",
   "mimetype": "text/x-python",
   "name": "python",
   "nbconvert_exporter": "python",
   "pygments_lexer": "ipython3",
   "version": "3.7.3"
  }
 },
 "nbformat": 4,
 "nbformat_minor": 1
}
