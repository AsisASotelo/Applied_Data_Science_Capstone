{
 "cells": [
  {
   "cell_type": "markdown",
   "metadata": {},
   "source": [
    "# Exploratory Data Analysis "
   ]
  },
  {
   "cell_type": "markdown",
   "metadata": {},
   "source": [
    "## Import Libraries"
   ]
  },
  {
   "cell_type": "code",
   "execution_count": null,
   "metadata": {},
   "outputs": [],
   "source": [
    "\n",
    "from geopy.geocoders import Nominatim \n",
    "\n",
    "import requests \n",
    "import pandas as pd\n",
    "from pandas.io.json import json_normalize \n",
    "import matplotlib.cm as cm\n",
    "import matplotlib.colors as colors\n",
    "from sklearn.cluster import KMeans\n",
    "import folium \n",
    "import json\n",
    "\n",
    "print('Libraries imported.')"
   ]
  },
  {
   "cell_type": "markdown",
   "metadata": {},
   "source": [
    "## 1. Download and Explore Dataset"
   ]
  },
  {
   "cell_type": "code",
   "execution_count": null,
   "metadata": {},
   "outputs": [],
   "source": [
    "with open('newyork_data.json') as json_data:\n",
    "    newyork_data = json.load(json_data)"
   ]
  },
  {
   "cell_type": "code",
   "execution_count": null,
   "metadata": {},
   "outputs": [],
   "source": [
    "neighborhood_data = newyork_data['features']"
   ]
  },
  {
   "cell_type": "code",
   "execution_count": null,
   "metadata": {},
   "outputs": [],
   "source": [
    "col_names = ['Borough','Neighborhood','Latitude','Longitude']\n",
    "\n",
    "neighborhoods = pd.DataFrame(columns=col_names)"
   ]
  },
  {
   "cell_type": "code",
   "execution_count": null,
   "metadata": {},
   "outputs": [],
   "source": [
    "for data in neighborhood_data:\n",
    "    borough = neighborhood_name = data['properties']['borough'] \n",
    "    neighborhood_name = data['properties']['name']\n",
    "        \n",
    "    neighborhood_latlon = data['geometry']['coordinates']\n",
    "    neighborhood_lat = neighborhood_latlon[1]\n",
    "    neighborhood_lon = neighborhood_latlon[0]\n",
    "    \n",
    "    neighborhoods = neighborhoods.append({'Borough': borough,\n",
    "                                          'Neighborhood': neighborhood_name,\n",
    "                                          'Latitude': neighborhood_lat,\n",
    "                                          'Longitude': neighborhood_lon}, ignore_index=True)"
   ]
  },
  {
   "cell_type": "code",
   "execution_count": null,
   "metadata": {},
   "outputs": [],
   "source": [
    "neighborhoods.head()"
   ]
  },
  {
   "cell_type": "markdown",
   "metadata": {},
   "source": [
    "We have 5 Boroughs that we will identify how many gyms are within their proximity a radius of 6000 meters first."
   ]
  },
  {
   "cell_type": "markdown",
   "metadata": {},
   "source": [
    "Using the **Geopy** module we will map all of New York City and the points of New York"
   ]
  },
  {
   "cell_type": "code",
   "execution_count": null,
   "metadata": {},
   "outputs": [],
   "source": [
    "address = \"New York City, NY\"\n",
    "\n",
    "geolocator = Nominatim(user_agent = \"ny_explorer\")\n",
    "location   = geolocator.geocode(address)\n",
    "latitude   = location.latitude\n",
    "longitude  = location.longitude\n",
    "\n",
    "print(\"The geographical coordinates of New York City: {},{}\".format(latitude,longitude))"
   ]
  },
  {
   "cell_type": "markdown",
   "metadata": {},
   "source": [
    "We create the map using folium and then superimpose markers of the different neighborhoods\n"
   ]
  },
  {
   "cell_type": "code",
   "execution_count": null,
   "metadata": {},
   "outputs": [],
   "source": [
    "map_ny = folium.Map(location = [latitude,longitude],zoom_start = 11)\n",
    "\n",
    "for lat, lng, borough, neighborhood in zip(neighborhoods['Latitude'],neighborhoods['Longitude'],neighborhoods['Borough'],neighborhoods['Neighborhood']):\n",
    "    label = '{},{}'.format(neighborhood,borough)\n",
    "    label = folium.Popup(label, parse_html = True)\n",
    "    folium.CircleMarker([lat,lng],\n",
    "                       radius = 5,\n",
    "                       popup = label,\n",
    "                       color = 'blue',\n",
    "                       fill = True,\n",
    "                       fill_color = '#3186cc',\n",
    "                       fill_opacity = 0.7,\n",
    "                       parse_html=False).add_to(map_ny)\n",
    "map_ny"
   ]
  },
  {
   "cell_type": "markdown",
   "metadata": {},
   "source": [
    "## 2. Do something very similar with gym data"
   ]
  },
  {
   "cell_type": "markdown",
   "metadata": {},
   "source": [
    "### Define the Credentials for Foursquare"
   ]
  },
  {
   "cell_type": "code",
   "execution_count": null,
   "metadata": {},
   "outputs": [],
   "source": [
    "CLIENT_ID = 'VSP0Z54PLZLY2VG4QN4KNCM5OZVD35U1CRQ2ARSAUZUNF3H2' # your Foursquare ID\n",
    "CLIENT_SECRET = 'WDF4G0FDAEBHYKDM3J35TE1JDFXQJTGGOR1WYGPYH25OPAZM' # your Foursquare Secret\n",
    "VERSION = '20180604'\n",
    "print('Your credentails:')\n",
    "print('CLIENT_ID: ' + CLIENT_ID)\n",
    "print('CLIENT_SECRET:' + CLIENT_SECRET)"
   ]
  },
  {
   "cell_type": "markdown",
   "metadata": {},
   "source": [
    "### Manhattan Gyms"
   ]
  },
  {
   "cell_type": "code",
   "execution_count": null,
   "metadata": {},
   "outputs": [],
   "source": [
    "address = 'Manhattan, NY'\n",
    "\n",
    "geolocator = Nominatim(user_agent = \"ny_explorer\")\n",
    "location = geolocator.geocode(address)\n",
    "latitude = location.latitude\n",
    "longitude = location.longitude \n",
    "\n",
    "print(\"Geo Coordinates for Manhattan: {},{}\".format(latitude,longitude))"
   ]
  },
  {
   "cell_type": "markdown",
   "metadata": {},
   "source": [
    "We then create a request for the data "
   ]
  },
  {
   "cell_type": "code",
   "execution_count": null,
   "metadata": {},
   "outputs": [],
   "source": [
    "LIMIT = 100\n",
    "radius = 6000\n",
    "search_query = \"Fitness\"\n",
    "\n",
    "url = 'https://api.foursquare.com/v2/venues/search?client_id={}&client_secret={}&ll={},{}&v={}&query={}&radius={}&limit={}'.format(CLIENT_ID, CLIENT_SECRET, latitude, longitude, VERSION, search_query, radius, LIMIT)\n",
    "url"
   ]
  },
  {
   "cell_type": "code",
   "execution_count": null,
   "metadata": {},
   "outputs": [],
   "source": [
    "results =requests.get(url).json()\n",
    "results"
   ]
  },
  {
   "cell_type": "markdown",
   "metadata": {},
   "source": [
    "Using the **JSON_NORMALIZE** function turn the JSON into a dataframe"
   ]
  },
  {
   "cell_type": "code",
   "execution_count": null,
   "metadata": {},
   "outputs": [],
   "source": [
    "man_gyms = results['response']['venues']\n",
    "ratings = []\n",
    "man_gym  =json_normalize(man_gyms)\n",
    "man_gym.shape"
   ]
  },
  {
   "cell_type": "markdown",
   "metadata": {},
   "source": [
    "Clean the data by renaming columns and removing uncessary columns"
   ]
  },
  {
   "cell_type": "code",
   "execution_count": null,
   "metadata": {},
   "outputs": [],
   "source": [
    "man_gym.rename(columns={\"id\":\"ID\",\"location.lat\": \"Latitude\", \"location.lng\": \"Longitude\",\"location.city\":\"Neighbhorhood\",\"name\":\"Name\",\"location.city\":\"Borough\",\"location.distance\":\"Distance\"},inplace=True)\n",
    "man_gym = man_gym[['ID','Name','Latitude','Longitude','Distance',\"Borough\"]]\n",
    "\n",
    "\n",
    "## Drop the two indices in Jersey City\n",
    "man_gym.drop(man_gym.index[16],inplace = True)\n",
    "man_gym.drop(man_gym.index[28],inplace = True)\n",
    "man_gym.reset_index(inplace=True)\n",
    "man_gym\n",
    "\n",
    "man_gym"
   ]
  },
  {
   "cell_type": "code",
   "execution_count": null,
   "metadata": {
    "scrolled": true
   },
   "outputs": [],
   "source": [
    "map_man = folium.Map(location = [latitude,longitude],zoom_start = 11)\n",
    "\n",
    "for lat, lng, name in zip(man_gym['Latitude'],man_gym['Longitude'],man_gym['Name']):\n",
    "    label = '{}'.format(name)\n",
    "    label = folium.Popup(label, parse_html = True)\n",
    "    folium.CircleMarker([lat,lng],\n",
    "                       radius = 5,\n",
    "                       popup = label,\n",
    "                       color = 'blue',\n",
    "                       fill = True,\n",
    "                       fill_color = '#3186cc',\n",
    "                       fill_opacity = 0.7,\n",
    "                       parse_html=False).add_to(map_man)\n",
    "map_man"
   ]
  },
  {
   "cell_type": "markdown",
   "metadata": {},
   "source": [
    "We will remove the the gyms located in Jersey City"
   ]
  },
  {
   "cell_type": "code",
   "execution_count": null,
   "metadata": {},
   "outputs": [],
   "source": [
    "man_gym.drop(man_gym.index[16],inplace = True)\n",
    "man_gym.drop(man_gym.index[28],inplace = True)\n",
    "man_gym.reset_index(inplace=True)\n",
    "man_gym"
   ]
  },
  {
   "cell_type": "markdown",
   "metadata": {},
   "source": [
    "Retrieve the rankings of each gym."
   ]
  },
  {
   "cell_type": "code",
   "execution_count": null,
   "metadata": {},
   "outputs": [],
   "source": [
    "man_ratings_list = []\n",
    "\n",
    "for i in range(man_gym[\"ID\"].count()):\n",
    "    \n",
    "    venue_id = man_gym.iloc[i][\"ID\"]\n",
    "    url = 'https://api.foursquare.com/v2/venues/{}?client_id={}&client_secret={}&v={}'.format(venue_id, CLIENT_ID, CLIENT_SECRET, VERSION)\n",
    "    result = requests.get(url).json()\n",
    "    \n",
    "    try:\n",
    "        man_ratings_list.append(result['response']['venue']['rating'])\n",
    "    \n",
    "    except:\n",
    "        man_ratings_list.append(0)\n",
    "\n"
   ]
  },
  {
   "cell_type": "code",
   "execution_count": null,
   "metadata": {},
   "outputs": [],
   "source": [
    "man_gym[\"Ratings\"] = pd.DataFrame(man_ratings_list)\n",
    "man_mean = man_gym[\"Ratings\"][ man_gym[\"Ratings\"] != 0 ].mean()\n",
    "man_mean\n",
    "man_gym[\"Ratings\"][man_gym[\"Ratings\"]==0] = man_mean\n",
    "man_gym"
   ]
  },
  {
   "cell_type": "code",
   "execution_count": null,
   "metadata": {},
   "outputs": [],
   "source": [
    "type(man_gym[\"Ratings\"].values)"
   ]
  },
  {
   "cell_type": "code",
   "execution_count": null,
   "metadata": {},
   "outputs": [],
   "source": []
  },
  {
   "cell_type": "markdown",
   "metadata": {},
   "source": [
    "## Bronx Gyms"
   ]
  },
  {
   "cell_type": "code",
   "execution_count": null,
   "metadata": {},
   "outputs": [],
   "source": [
    "address = 'Bronx, NY'\n",
    "\n",
    "geolocator = Nominatim(user_agent = \"ny_explorer\")\n",
    "location = geolocator.geocode(address)\n",
    "latitude = location.latitude\n",
    "longitude = location.longitude \n",
    "\n",
    "print(\"Geo Coordinates for the Bronx: {},{}\".format(latitude,longitude))"
   ]
  },
  {
   "cell_type": "code",
   "execution_count": null,
   "metadata": {},
   "outputs": [],
   "source": [
    "LIMIT = 100\n",
    "radius = 6000\n",
    "search_query = \"Fitness\"\n",
    "\n",
    "url = 'https://api.foursquare.com/v2/venues/search?client_id={}&client_secret={}&ll={},{}&v={}&query={}&radius={}&limit={}'.format(CLIENT_ID, CLIENT_SECRET, latitude, longitude, VERSION, search_query, radius, LIMIT)\n",
    "url"
   ]
  },
  {
   "cell_type": "code",
   "execution_count": null,
   "metadata": {},
   "outputs": [],
   "source": [
    "results =requests.get(url).json()\n",
    "results"
   ]
  },
  {
   "cell_type": "code",
   "execution_count": null,
   "metadata": {},
   "outputs": [],
   "source": [
    "bronx_gym = results['response']['venues']\n",
    "ratings = []\n",
    "bronx_gym  =json_normalize(bronx_gym)\n",
    "bronx_gym"
   ]
  },
  {
   "cell_type": "code",
   "execution_count": null,
   "metadata": {},
   "outputs": [],
   "source": [
    "bronx_gym.rename(columns={\"id\":\"ID\",\"location.lat\": \"Latitude\", \"location.lng\": \"Longitude\",\"location.city\":\"Borough\",\"name\":\"Name\",\"location.city\":\"Borough\",\"location.distance\":\"Distance\"},inplace=True)\n",
    "bronx_gym = bronx_gym[['ID','Name','Latitude','Longitude','Distance',\"Borough\"]]\n",
    "\n",
    "bronx_gym.head()"
   ]
  },
  {
   "cell_type": "code",
   "execution_count": null,
   "metadata": {},
   "outputs": [],
   "source": [
    "map_bronx = folium.Map(location = [latitude,longitude],zoom_start = 11)\n",
    "\n",
    "for lat, lng, name in zip(bronx_gym['Latitude'],bronx_gym['Longitude'],bronx_gym['Name']):\n",
    "    label = '{}'.format(name)\n",
    "    label = folium.Popup(label, parse_html = True)\n",
    "    folium.CircleMarker([lat,lng],\n",
    "                       radius = 5,\n",
    "                       popup = label,\n",
    "                       color = 'blue',\n",
    "                       fill = True,\n",
    "                       fill_color = '#3186cc',\n",
    "                       fill_opacity = 0.7,\n",
    "                       parse_html=False).add_to(map_bronx)\n",
    "map_bronx"
   ]
  },
  {
   "cell_type": "markdown",
   "metadata": {},
   "source": [
    "## Ratings For BRONX"
   ]
  },
  {
   "cell_type": "code",
   "execution_count": null,
   "metadata": {},
   "outputs": [],
   "source": [
    "bronx_ratings_list = []\n",
    "\n",
    "for i in range(bronx_gym[\"ID\"].count()):\n",
    "    \n",
    "    venue_id = bronx_gym.iloc[i][\"ID\"]\n",
    "    url = 'https://api.foursquare.com/v2/venues/{}?client_id={}&client_secret={}&v={}'.format(venue_id, CLIENT_ID, CLIENT_SECRET, VERSION)\n",
    "    result = requests.get(url).json()\n",
    "    \n",
    "    try:\n",
    "        bronx_ratings_list.append(result['response']['venue']['rating'])\n",
    "    \n",
    "    except:\n",
    "        bronx_ratings_list.append(0)\n",
    "\n"
   ]
  },
  {
   "cell_type": "code",
   "execution_count": null,
   "metadata": {},
   "outputs": [],
   "source": [
    "bronx_gym[\"Ratings\"] = pd.DataFrame(bronx_ratings_list)\n",
    "\n",
    "bronx_mean = bronx_gym[\"Ratings\"][ bronx_gym[\"Ratings\"] != 0 ].mean()\n",
    "bronx_mean\n",
    "bronx_gym[\"Ratings\"][bronx_gym[\"Ratings\"]==0] = bronx_mean\n",
    "bronx_gym"
   ]
  },
  {
   "cell_type": "code",
   "execution_count": null,
   "metadata": {},
   "outputs": [],
   "source": []
  },
  {
   "cell_type": "markdown",
   "metadata": {},
   "source": [
    "## Queen Gyms"
   ]
  },
  {
   "cell_type": "markdown",
   "metadata": {},
   "source": [
    "We repeat process for the rest of 3 Boroughs"
   ]
  },
  {
   "cell_type": "code",
   "execution_count": null,
   "metadata": {},
   "outputs": [],
   "source": [
    "address = '14167 Coolidge Ave, Queens, NY'\n",
    "\n",
    "geolocator = Nominatim(user_agent = \"ny_explorer\")\n",
    "location = geolocator.geocode(address)\n",
    "latitude = location.latitude\n",
    "longitude = location.longitude \n",
    "\n",
    "print(\"Geo Coordinates for the Queens: {},{}\".format(latitude,longitude))"
   ]
  },
  {
   "cell_type": "code",
   "execution_count": null,
   "metadata": {},
   "outputs": [],
   "source": [
    "LIMIT = 100\n",
    "radius = 6000\n",
    "search_query = \"Fitness\"\n",
    "\n",
    "url = 'https://api.foursquare.com/v2/venues/search?client_id={}&client_secret={}&ll={},{}&v={}&query={}&radius={}&limit={}'.format(CLIENT_ID, CLIENT_SECRET, latitude, longitude, VERSION, search_query, radius, LIMIT)\n",
    "url"
   ]
  },
  {
   "cell_type": "code",
   "execution_count": null,
   "metadata": {},
   "outputs": [],
   "source": [
    "results =requests.get(url).json()\n",
    "results"
   ]
  },
  {
   "cell_type": "code",
   "execution_count": null,
   "metadata": {},
   "outputs": [],
   "source": [
    "queens_gym = results['response']['venues']\n",
    "queens_ratings = []\n",
    "queens_gym  =json_normalize(queens_gym)\n",
    "queens_gym"
   ]
  },
  {
   "cell_type": "code",
   "execution_count": null,
   "metadata": {},
   "outputs": [],
   "source": [
    "\n",
    "queens_gym.rename(columns={\"id\":\"ID\",\"location.lat\": \"Latitude\", \"location.lng\": \"Longitude\",\"location.city\":\"Borough\",\"name\":\"Name\",\"location.city\":\"Borough\",\"location.distance\":\"Distance\"},inplace=True)\n",
    "queens_gym = queens_gym[['ID','Name','Latitude','Longitude','Distance',\"Borough\"]]\n",
    "\n",
    "queens_gym.head()\n"
   ]
  },
  {
   "cell_type": "code",
   "execution_count": null,
   "metadata": {},
   "outputs": [],
   "source": [
    "map_queens = folium.Map(location = [latitude,longitude],zoom_start = 11)\n",
    "\n",
    "for lat, lng, name in zip(queens_gym['Latitude'],queens_gym['Longitude'],queens_gym['Name']):\n",
    "    label = '{}'.format(name)\n",
    "    label = folium.Popup(label, parse_html = True)\n",
    "    folium.CircleMarker([lat,lng],\n",
    "                       radius = 5,\n",
    "                       popup = label,\n",
    "                       color = 'blue',\n",
    "                       fill = True,\n",
    "                       fill_color = '#3186cc',\n",
    "                       fill_opacity = 0.7,\n",
    "                       parse_html=False).add_to(map_queens)\n",
    "map_queens"
   ]
  },
  {
   "cell_type": "markdown",
   "metadata": {},
   "source": [
    "## RATINGS FOR QUEENS"
   ]
  },
  {
   "cell_type": "code",
   "execution_count": null,
   "metadata": {},
   "outputs": [],
   "source": [
    "queens_ratings_list = []\n",
    "\n",
    "for i in range(queens_gym[\"ID\"].count()):\n",
    "    \n",
    "    venue_id = queens_gym.iloc[i][\"ID\"]\n",
    "    url = 'https://api.foursquare.com/v2/venues/{}?client_id={}&client_secret={}&v={}'.format(venue_id, CLIENT_ID, CLIENT_SECRET, VERSION)\n",
    "    result = requests.get(url).json()\n",
    "    \n",
    "    try:\n",
    "        queens_ratings_list.append(result['response']['venue']['rating'])\n",
    "    \n",
    "    except:\n",
    "        queens_ratings_list.append(0)\n",
    "\n",
    "\n"
   ]
  },
  {
   "cell_type": "code",
   "execution_count": null,
   "metadata": {},
   "outputs": [],
   "source": [
    "queens_gym[\"Ratings\"] = pd.DataFrame(queens_ratings_list)\n",
    "\n",
    "queens_mean = queens_gym[\"Ratings\"][ queens_gym[\"Ratings\"] != 0 ].mean()\n",
    "queens_mean\n",
    "queens_gym[\"Ratings\"][queens_gym[\"Ratings\"]==0] = queens_mean\n",
    "queens_gym"
   ]
  },
  {
   "cell_type": "markdown",
   "metadata": {},
   "source": [
    "## Brooklyn"
   ]
  },
  {
   "cell_type": "code",
   "execution_count": null,
   "metadata": {},
   "outputs": [],
   "source": [
    "address = \"Brooklyn, NY\"\n",
    "\n",
    "geolocator = Nominatim(user_agent = \"ny_explorer\")\n",
    "location = geolocator.geocode(address)\n",
    "latitude = location.latitude\n",
    "longitude = location.longitude \n",
    "\n",
    "print(\"Geo Coordinates for the Brooklyn: {},{}\".format(latitude,longitude))"
   ]
  },
  {
   "cell_type": "code",
   "execution_count": null,
   "metadata": {},
   "outputs": [],
   "source": [
    "LIMIT = 100\n",
    "radius = 6000\n",
    "search_query = \"Fitness\"\n",
    "\n",
    "url = 'https://api.foursquare.com/v2/venues/search?client_id={}&client_secret={}&ll={},{}&v={}&query={}&radius={}&limit={}'.format(CLIENT_ID, CLIENT_SECRET, latitude, longitude, VERSION, search_query, radius, LIMIT)\n",
    "url"
   ]
  },
  {
   "cell_type": "code",
   "execution_count": null,
   "metadata": {},
   "outputs": [],
   "source": [
    "results =requests.get(url).json()\n",
    "results"
   ]
  },
  {
   "cell_type": "code",
   "execution_count": null,
   "metadata": {},
   "outputs": [],
   "source": [
    "brooklyn_gym = results['response']['venues']\n",
    "\n",
    "brooklyn_gym  =json_normalize(brooklyn_gym)\n",
    "brooklyn_gym"
   ]
  },
  {
   "cell_type": "code",
   "execution_count": null,
   "metadata": {},
   "outputs": [],
   "source": [
    "\n",
    "brooklyn_gym.rename(columns={\"id\":\"ID\",\"location.lat\": \"Latitude\", \"location.lng\": \"Longitude\",\"location.city\":\"Borough\",\"name\":\"Name\",\"location.city\":\"Borough\",\"location.distance\":\"Distance\"},inplace=True)\n",
    "brooklyn_gym = brooklyn_gym[['ID','Name','Latitude','Longitude','Distance',\"Borough\"]]\n",
    "\n",
    "brooklyn_gym.head()\n",
    "\n",
    "brooklyn_gym.shape"
   ]
  },
  {
   "cell_type": "code",
   "execution_count": null,
   "metadata": {},
   "outputs": [],
   "source": [
    "map_brooklyn = folium.Map(location = [latitude,longitude],zoom_start = 11)\n",
    "\n",
    "for lat, lng, name in zip(brooklyn_gym['Latitude'],brooklyn_gym['Longitude'],brooklyn_gym['Name']):\n",
    "    label = '{}'.format(name)\n",
    "    label = folium.Popup(label, parse_html = True)\n",
    "    folium.CircleMarker([lat,lng],\n",
    "                       radius = 5,\n",
    "                       popup = label,\n",
    "                       color = 'blue',\n",
    "                       fill = True,\n",
    "                       fill_color = '#3186cc',\n",
    "                       fill_opacity = 0.7,\n",
    "                       parse_html=False).add_to(map_brooklyn)\n",
    "map_brooklyn"
   ]
  },
  {
   "cell_type": "code",
   "execution_count": null,
   "metadata": {},
   "outputs": [],
   "source": [
    "brooklyn_ratings_list = []\n",
    "\n",
    "for i in range(brooklyn_gym[\"ID\"].count()):\n",
    "    \n",
    "    venue_id = brooklyn_gym.iloc[i][\"ID\"]\n",
    "    url = 'https://api.foursquare.com/v2/venues/{}?client_id={}&client_secret={}&v={}'.format(venue_id, CLIENT_ID, CLIENT_SECRET, VERSION)\n",
    "    result = requests.get(url).json()\n",
    "    \n",
    "    try:\n",
    "        brooklyn_ratings_list.append(result['response']['venue']['rating'])\n",
    "    \n",
    "    except:\n",
    "        brooklyn_ratings_list.append(0)\n",
    "\n",
    "\n"
   ]
  },
  {
   "cell_type": "code",
   "execution_count": null,
   "metadata": {},
   "outputs": [],
   "source": [
    "brooklyn_gym[\"Ratings\"] = pd.DataFrame(brooklyn_ratings_list)\n"
   ]
  },
  {
   "cell_type": "code",
   "execution_count": null,
   "metadata": {},
   "outputs": [],
   "source": [
    "brook_mean = brooklyn_gym[\"Ratings\"][ brooklyn_gym[\"Ratings\"] != 0 ].mean()\n",
    "brook_mean\n",
    "\n",
    "brooklyn_gym[\"Ratings\"][brooklyn_gym[\"Ratings\"]==0] = brook_mean\n",
    "brooklyn_gym"
   ]
  },
  {
   "cell_type": "markdown",
   "metadata": {},
   "source": [
    "## Staten Island"
   ]
  },
  {
   "cell_type": "code",
   "execution_count": null,
   "metadata": {},
   "outputs": [],
   "source": [
    "address = \"Staten Island, NY\"\n",
    "\n",
    "geolocator = Nominatim(user_agent = \"ny_explorer\")\n",
    "location = geolocator.geocode(address)\n",
    "latitude = location.latitude\n",
    "longitude = location.longitude \n",
    "\n",
    "print(\"Geo Coordinates for the Staten Island: {},{}\".format(latitude,longitude))"
   ]
  },
  {
   "cell_type": "code",
   "execution_count": null,
   "metadata": {},
   "outputs": [],
   "source": [
    "LIMIT = 100\n",
    "radius = 6000\n",
    "search_query = \"Fitness\"\n",
    "\n",
    "url = 'https://api.foursquare.com/v2/venues/search?client_id={}&client_secret={}&ll={},{}&v={}&query={}&radius={}&limit={}'.format(CLIENT_ID, CLIENT_SECRET, latitude, longitude, VERSION, search_query, radius, LIMIT)\n",
    "url"
   ]
  },
  {
   "cell_type": "code",
   "execution_count": null,
   "metadata": {},
   "outputs": [],
   "source": [
    "results =requests.get(url).json()\n",
    "results"
   ]
  },
  {
   "cell_type": "code",
   "execution_count": null,
   "metadata": {},
   "outputs": [],
   "source": [
    "staten_gym = results['response']['venues']\n",
    "\n",
    "staten_gym  =json_normalize(staten_gym)\n",
    "staten_gym"
   ]
  },
  {
   "cell_type": "code",
   "execution_count": null,
   "metadata": {},
   "outputs": [],
   "source": [
    "staten_gym.rename(columns={\"id\":\"ID\",\"location.lat\": \"Latitude\", \"location.lng\": \"Longitude\",\"location.city\":\"Borough\",\"name\":\"Name\",\"location.city\":\"Borough\",\"location.distance\":\"Distance\"},inplace=True)\n",
    "staten_gym = staten_gym[['ID','Name','Latitude','Longitude','Distance',\"Borough\"]]\n",
    "\n",
    "staten_gym.head()\n",
    "\n",
    "staten_gym.shape"
   ]
  },
  {
   "cell_type": "code",
   "execution_count": null,
   "metadata": {},
   "outputs": [],
   "source": [
    "map_staten = folium.Map(location = [latitude,longitude],zoom_start = 11)\n",
    "\n",
    "for lat, lng, name in zip(staten_gym['Latitude'],staten_gym['Longitude'],staten_gym['Name']):\n",
    "    label = '{}'.format(name)\n",
    "    label = folium.Popup(label, parse_html = True)\n",
    "    folium.CircleMarker([lat,lng],\n",
    "                       radius = 5,\n",
    "                       popup = label,\n",
    "                       color = 'blue',\n",
    "                       fill = True,\n",
    "                       fill_color = '#3186cc',\n",
    "                       fill_opacity = 0.7,\n",
    "                       parse_html=False).add_to(map_staten)\n",
    "map_staten"
   ]
  },
  {
   "cell_type": "code",
   "execution_count": null,
   "metadata": {},
   "outputs": [],
   "source": [
    "staten_ratings_list = []\n",
    "\n",
    "for i in range(staten_gym[\"ID\"].count()):\n",
    "    \n",
    "    venue_id = staten_gym.iloc[i][\"ID\"]\n",
    "    url = 'https://api.foursquare.com/v2/venues/{}?client_id={}&client_secret={}&v={}'.format(venue_id, CLIENT_ID, CLIENT_SECRET, VERSION)\n",
    "    result = requests.get(url).json()\n",
    "    \n",
    "    try:\n",
    "        staten_ratings_list.append(result['response']['venue']['rating'])\n",
    "    \n",
    "    except:\n",
    "        staten_ratings_list.append(0)\n",
    "\n"
   ]
  },
  {
   "cell_type": "code",
   "execution_count": null,
   "metadata": {},
   "outputs": [],
   "source": [
    "staten_gym[\"Ratings\"] = pd.DataFrame(staten_ratings_list)\n",
    "staten_gym"
   ]
  },
  {
   "cell_type": "code",
   "execution_count": null,
   "metadata": {},
   "outputs": [],
   "source": [
    "nonzero_mean = staten_gym[\"Ratings\"][ staten_gym[\"Ratings\"] != 0 ].mean()\n",
    "nonzero_mean\n",
    "\n",
    "staten_gym[\"Ratings\"][staten_gym[\"Ratings\"]==0] = nonzero_mean"
   ]
  },
  {
   "cell_type": "code",
   "execution_count": null,
   "metadata": {},
   "outputs": [],
   "source": [
    "staten_gym"
   ]
  },
  {
   "cell_type": "markdown",
   "metadata": {},
   "source": [
    "## Using the New York Technique\\"
   ]
  },
  {
   "cell_type": "code",
   "execution_count": null,
   "metadata": {},
   "outputs": [],
   "source": [
    "#address = \"New York City, NY\"\n",
    "\n",
    "#geolocator = Nominatim(user_agent = \"ny_explorer\")\n",
    "#location   = geolocator.geocode(address)\n",
    "#latitude   = location.latitude\n",
    "#longitude  = location.longitude\n",
    "\n",
    "#print(\"The geographical coordinates of New York City: {},{}\".format(latitude,longitude))"
   ]
  },
  {
   "cell_type": "code",
   "execution_count": null,
   "metadata": {},
   "outputs": [],
   "source": [
    "#LIMIT = 1\n",
    "#radius = 33000\n",
    "#search_query = \"Fitness\"\n",
    "\n",
    "##url = 'https://api.foursquare.com/v2/venues/search?client_id={}&client_secret={}&ll={},{}&v={}&query={}&radius={}&limit={}'.format(CLIENT_ID, CLIENT_SECRET, latitude, longitude, VERSION, search_query, radius, LIMIT)\n",
    "#url"
   ]
  },
  {
   "cell_type": "code",
   "execution_count": null,
   "metadata": {},
   "outputs": [],
   "source": [
    "#results =requests.get(url).json()\n",
    "#results"
   ]
  },
  {
   "cell_type": "code",
   "execution_count": null,
   "metadata": {},
   "outputs": [],
   "source": [
    "#ny_gym = results['response']['venues']\n",
    "\n",
    "#ny_gym  =json_normalize(ny_gym)\n",
    "#ny_gym"
   ]
  },
  {
   "cell_type": "code",
   "execution_count": null,
   "metadata": {},
   "outputs": [],
   "source": [
    "#ny_gym.rename(columns={\"id\":\"ID\",\"location.lat\": \"Latitude\", \"location.lng\": \"Longitude\",\"location.city\":\"Borough\",\"name\":\"Name\",\"location.city\":\"Borough\",\"location.distance\":\"Distance\"},inplace=True)\n",
    "#ny_gym = ny_gym[['ID','Name','Latitude','Longitude','Distance',\"Borough\"]]\n",
    "\n",
    "##ny_gym.head()\n",
    "\n",
    "#ny_gym.shape"
   ]
  },
  {
   "cell_type": "markdown",
   "metadata": {},
   "source": [
    "## Realized we could only get 50 Results Per Query"
   ]
  },
  {
   "cell_type": "markdown",
   "metadata": {},
   "source": [
    "##  First method works \n"
   ]
  },
  {
   "cell_type": "markdown",
   "metadata": {},
   "source": [
    "Lets replace the Nan values here with the average of the tables and then get the ratings"
   ]
  },
  {
   "cell_type": "markdown",
   "metadata": {},
   "source": [
    "We concate the gyms"
   ]
  },
  {
   "cell_type": "code",
   "execution_count": null,
   "metadata": {},
   "outputs": [],
   "source": [
    "queens_gym[\"Borough\"] = \"Queens\"\n",
    "bronx_gym[\"Borough\"] = \"Bronx\"\n",
    "man_gym[\"Borough\"] = \"Manhattan\"\n",
    "brooklyn_gym[\"Borough\"] = \"Brooklyn\"\n",
    "staten_gym[\"Borough\"] = \"Staten Island\""
   ]
  },
  {
   "cell_type": "code",
   "execution_count": null,
   "metadata": {},
   "outputs": [],
   "source": [
    "ny_gyms = pd.concat([bronx_gym,man_gym,staten_gym,brooklyn_gym,queens_gym],axis = 0)"
   ]
  },
  {
   "cell_type": "code",
   "execution_count": null,
   "metadata": {},
   "outputs": [],
   "source": [
    "ny_gyms = ny_gyms[[\"Borough\",\"Distance\", \"ID\",\"Latitude\",\"Longitude\",\"Name\",\"Ratings\"]]"
   ]
  },
  {
   "cell_type": "code",
   "execution_count": null,
   "metadata": {},
   "outputs": [],
   "source": [
    "ny_gyms.groupby(\"Borough\").count()\n"
   ]
  },
  {
   "cell_type": "markdown",
   "metadata": {},
   "source": [
    "We then make a map of all of the gyms in New York city\n"
   ]
  },
  {
   "cell_type": "code",
   "execution_count": null,
   "metadata": {},
   "outputs": [],
   "source": [
    "map_ny_gyms = folium.Map(location = [latitude,longitude],zoom_start = 11)\n",
    "\n",
    "for lat, lng, name in zip(ny_gyms['Latitude'],ny_gyms['Longitude'],ny_gyms['Name']):\n",
    "    label = '{}'.format(name)\n",
    "    label = folium.Popup(label, parse_html = True)\n",
    "    folium.CircleMarker([lat,lng],\n",
    "                       radius = 5,\n",
    "                       popup = label,\n",
    "                       color = 'blue',\n",
    "                       fill = True,\n",
    "                       fill_color = '#3186cc',\n",
    "                       fill_opacity = 0.7,\n",
    "                       parse_html=False).add_to(map_ny_gyms)\n",
    "map_ny_gyms"
   ]
  },
  {
   "cell_type": "code",
   "execution_count": null,
   "metadata": {},
   "outputs": [],
   "source": [
    "ny_gyms.reset_index(inplace=True)"
   ]
  },
  {
   "cell_type": "code",
   "execution_count": null,
   "metadata": {},
   "outputs": [],
   "source": [
    "ny_gyms"
   ]
  },
  {
   "cell_type": "code",
   "execution_count": null,
   "metadata": {},
   "outputs": [],
   "source": [
    "ny_gyms_ratings = ny_gyms[['Borough','Ratings']]"
   ]
  },
  {
   "cell_type": "code",
   "execution_count": null,
   "metadata": {},
   "outputs": [],
   "source": [
    "ny_gyms_ratings = ny_gyms_ratings.groupby('Borough').mean().reset_index()\n"
   ]
  },
  {
   "cell_type": "code",
   "execution_count": null,
   "metadata": {},
   "outputs": [],
   "source": [
    "ny_gyms_ratings"
   ]
  },
  {
   "cell_type": "markdown",
   "metadata": {},
   "source": [
    "## We will convert the Latitude and Longitude to x and y coordinates in order to use K-Means Clusterization\n"
   ]
  },
  {
   "cell_type": "markdown",
   "metadata": {},
   "source": [
    "We define a function to convert the Latitude and Longitude to x and y coordinates\n"
   ]
  },
  {
   "cell_type": "code",
   "execution_count": null,
   "metadata": {},
   "outputs": [],
   "source": [
    "import shapely.geometry\n",
    "\n",
    "#!pip install pyproj\n",
    "import pyproj\n",
    "\n",
    "import math\n",
    "\n",
    "def lonlat_to_xy(lon, lat):\n",
    "    proj_latlon = pyproj.Proj(proj='latlong',datum='WGS84')\n",
    "    proj_xy = pyproj.Proj(proj=\"utm\", zone=33, datum='WGS84')\n",
    "    xy = pyproj.transform(proj_latlon, proj_xy, lon, lat)\n",
    "    return xy[0], xy[1]\n",
    "\n",
    "def xy_to_lonlat(x, y):\n",
    "    proj_latlon = pyproj.Proj(proj='latlong',datum='WGS84')\n",
    "    proj_xy = pyproj.Proj(proj=\"utm\", zone=33, datum='WGS84')\n",
    "    lonlat = pyproj.transform(proj_xy, proj_latlon, x, y)\n",
    "    return lonlat[0], lonlat[1]\n",
    "    \n",
    "print(\"Libraries Imported Functioons Created \")"
   ]
  },
  {
   "cell_type": "code",
   "execution_count": null,
   "metadata": {},
   "outputs": [],
   "source": [
    "ny_dist = ny_gyms[[\"Name\",\"Borough\",\"Latitude\",\"Longitude\"]]"
   ]
  },
  {
   "cell_type": "code",
   "execution_count": null,
   "metadata": {},
   "outputs": [],
   "source": [
    "Xval = []\n",
    "Yval = []\n",
    "\n",
    "for i in range(ny_dist[\"Name\"].count()):\n",
    "    \n",
    "    lat = ny_dist.iloc[i][\"Latitude\"]\n",
    "    lon = ny_dist.iloc[i][\"Longitude\"] \n",
    "    \n",
    "    X, Y = lonlat_to_xy(lat,lon)\n",
    "    \n",
    "    Xval.append(X)\n",
    "    Yval.append(Y)\n",
    "\n",
    "\n"
   ]
  },
  {
   "cell_type": "code",
   "execution_count": null,
   "metadata": {},
   "outputs": [],
   "source": [
    "ny_dist[\"X\"] = pd.DataFrame(Xval)\n",
    "ny_dist[\"Y\"] = pd.DataFrame(Yval)"
   ]
  },
  {
   "cell_type": "code",
   "execution_count": null,
   "metadata": {},
   "outputs": [],
   "source": [
    "ny_dist"
   ]
  },
  {
   "cell_type": "code",
   "execution_count": null,
   "metadata": {},
   "outputs": [],
   "source": [
    "import matplotlib.pyplot as plt\n",
    "from sklearn.preprocessing import StandardScaler\n",
    "from sklearn.neighbors import KNeighborsClassifier\n",
    "from sklearn import metrics\n",
    "plt.scatter(Xval,Yval)\n",
    "plt.show"
   ]
  },
  {
   "cell_type": "code",
   "execution_count": null,
   "metadata": {
    "scrolled": true
   },
   "outputs": [],
   "source": [
    "xy = pd.DataFrame({'X':Xval, 'Y': Yval})\n",
    "\n",
    "xy.iloc[:,0]"
   ]
  },
  {
   "cell_type": "code",
   "execution_count": null,
   "metadata": {},
   "outputs": [],
   "source": [
    "kmeans = KMeans(n_clusters = 12, n_init = 20)\n",
    "kmeans.fit(xy)"
   ]
  },
  {
   "cell_type": "code",
   "execution_count": null,
   "metadata": {},
   "outputs": [],
   "source": [
    "labels = kmeans.predict(xy)\n",
    "centroids = kmeans.cluster_centers_\n",
    "centroids"
   ]
  },
  {
   "cell_type": "code",
   "execution_count": null,
   "metadata": {},
   "outputs": [],
   "source": [
    "centroids[:,0]\n",
    "centroids[:,1]"
   ]
  },
  {
   "cell_type": "code",
   "execution_count": null,
   "metadata": {},
   "outputs": [],
   "source": [
    "plt.scatter(xy['X'],xy['Y'])\n",
    "plt.scatter(centroids[:,0],centroids[:,1],color = \"r\")\n"
   ]
  },
  {
   "cell_type": "code",
   "execution_count": null,
   "metadata": {},
   "outputs": [],
   "source": [
    "labels_clusters = kmeans.labels_"
   ]
  },
  {
   "cell_type": "code",
   "execution_count": null,
   "metadata": {},
   "outputs": [],
   "source": [
    "len(labels_clusters)"
   ]
  },
  {
   "cell_type": "code",
   "execution_count": null,
   "metadata": {},
   "outputs": [],
   "source": [
    "ny_gyms[\"Label\"] = labels_clusters"
   ]
  },
  {
   "cell_type": "code",
   "execution_count": null,
   "metadata": {},
   "outputs": [],
   "source": [
    "ny_gyms"
   ]
  },
  {
   "cell_type": "markdown",
   "metadata": {},
   "source": [
    "## We plot the labels of each gym as well as the overlap of the heatmap of each borough.\n"
   ]
  },
  {
   "cell_type": "code",
   "execution_count": null,
   "metadata": {},
   "outputs": [],
   "source": [
    "import matplotlib.cm as cm\n",
    "import matplotlib.colors as colors"
   ]
  },
  {
   "cell_type": "code",
   "execution_count": null,
   "metadata": {},
   "outputs": [],
   "source": [
    "kclusters = 15\n",
    "map_clusters = folium.Map(location=[latitude, longitude], zoom_start=11)\n",
    "\n",
    "# set color scheme for the clusters\n",
    "x = np.arange(kclusters)\n",
    "ys = [i + x + (i*x)**2 for i in range(kclusters)]\n",
    "colors_array = cm.rainbow(np.linspace(0, 1, len(ys)))\n",
    "rainbow = [colors.rgb2hex(i) for i in colors_array]\n",
    "\n",
    "# add markers to the map\n",
    "markers_colors = []\n",
    "for lat, lon, poi, cluster in zip(ny_gyms['Latitude'], ny_gyms['Longitude'], ny_gyms['Borough'], ny_gyms['Label']):\n",
    "    label = folium.Popup(str(poi) + ' Cluster ' + str(cluster), parse_html=True)\n",
    "    folium.CircleMarker(\n",
    "        [lat, lon],\n",
    "        radius=5,\n",
    "        popup=label,\n",
    "        color=rainbow[cluster-1],\n",
    "        fill=True,\n",
    "        fill_color=rainbow[cluster-1],\n",
    "        fill_opacity=0.7).add_to(map_clusters)\n",
    "       \n",
    "map_clusters"
   ]
  },
  {
   "cell_type": "code",
   "execution_count": null,
   "metadata": {},
   "outputs": [],
   "source": []
  },
  {
   "cell_type": "markdown",
   "metadata": {},
   "source": [
    "As we can see the "
   ]
  },
  {
   "cell_type": "code",
   "execution_count": null,
   "metadata": {},
   "outputs": [],
   "source": [
    "ny_gyms"
   ]
  },
  {
   "cell_type": "code",
   "execution_count": null,
   "metadata": {},
   "outputs": [],
   "source": [
    "ny_gyms.groupby('Label').count()"
   ]
  },
  {
   "cell_type": "markdown",
   "metadata": {},
   "source": [
    "# We will save the ny_gyms to a dataframe to use in our report "
   ]
  },
  {
   "cell_type": "code",
   "execution_count": null,
   "metadata": {},
   "outputs": [],
   "source": [
    "!wget -q -O http://services5.arcgis.com/GfwWNkhOj9bNBqoJ/arcgis/rest/services/nybb/FeatureServer/0/query?where=1=1&outFields=*&outSR=4326&f=geojson"
   ]
  },
  {
   "cell_type": "code",
   "execution_count": null,
   "metadata": {},
   "outputs": [],
   "source": [
    "gson = r'newyork_data.json'"
   ]
  },
  {
   "cell_type": "code",
   "execution_count": null,
   "metadata": {},
   "outputs": [],
   "source": [
    "ny_gyms_ratings\n"
   ]
  },
  {
   "cell_type": "code",
   "execution_count": null,
   "metadata": {},
   "outputs": [],
   "source": [
    "address = \"New York City, NY\"\n",
    "\n",
    "geolocator = Nominatim(user_agent = \"ny_explorer\")\n",
    "location = geolocator.geocode(address)\n",
    "latitude = location.latitude\n",
    "longitude = location.longitude \n",
    "\n",
    "print(\"Geo Coordinates for the Staten Island: {},{}\".format(latitude,longitude))"
   ]
  },
  {
   "cell_type": "code",
   "execution_count": null,
   "metadata": {},
   "outputs": [],
   "source": [
    "\n",
    "rating_map = folium.Map()\n",
    "ratings_map = folium.Map(location = [latitude, longitude],zoom_start =11)\n",
    "ratings_map"
   ]
  },
  {
   "cell_type": "code",
   "execution_count": null,
   "metadata": {},
   "outputs": [],
   "source": [
    "gson = r'borough_data.json'"
   ]
  },
  {
   "cell_type": "code",
   "execution_count": null,
   "metadata": {},
   "outputs": [],
   "source": [
    "ratings_map.choropleth(\n",
    "    geo_data=gson,\n",
    "    data=ny_gyms_ratings,\n",
    "    columns=['Borough','Ratings'],\n",
    "    key_on='feature.properties.boro_name',\n",
    "    fill_color='YlOrRd', \n",
    "    fill_opacity=0.7, \n",
    "    line_opacity=0.2,\n",
    "    legend_name='NY'\n",
    ")\n",
    "\n",
    "# display map\n",
    "ratings_map"
   ]
  },
  {
   "cell_type": "code",
   "execution_count": null,
   "metadata": {},
   "outputs": [],
   "source": [
    "ny_gyms_ratings"
   ]
  },
  {
   "cell_type": "markdown",
   "metadata": {},
   "source": [
    "## You can see best rating of gyms are in manhattan while both Queens and Brooklyn are almost identical."
   ]
  },
  {
   "cell_type": "code",
   "execution_count": null,
   "metadata": {},
   "outputs": [],
   "source": [
    "df.to_csv(r'gym_data.csv')"
   ]
  }
 ],
 "metadata": {
  "kernelspec": {
   "display_name": "Python 3",
   "language": "python",
   "name": "python3"
  },
  "language_info": {
   "codemirror_mode": {
    "name": "ipython",
    "version": 3
   },
   "file_extension": ".py",
   "mimetype": "text/x-python",
   "name": "python",
   "nbconvert_exporter": "python",
   "pygments_lexer": "ipython3",
   "version": "3.7.3"
  }
 },
 "nbformat": 4,
 "nbformat_minor": 2
}
